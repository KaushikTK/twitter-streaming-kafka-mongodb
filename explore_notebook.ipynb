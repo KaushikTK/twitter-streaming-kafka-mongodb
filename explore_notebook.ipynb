{
 "cells": [
  {
   "cell_type": "code",
   "execution_count": 7,
   "id": "a7bdec6c",
   "metadata": {},
   "outputs": [
    {
     "name": "stdout",
     "output_type": "stream",
     "text": [
      "Requirement already satisfied: kafka-python in d:\\kaushik\\github repos\\twitter-streaming-kafka-mongodb\\env\\lib\\site-packages (2.0.2)\n"
     ]
    },
    {
     "name": "stderr",
     "output_type": "stream",
     "text": [
      "WARNING: You are using pip version 21.2.3; however, version 22.3 is available.\n",
      "You should consider upgrading via the 'D:\\Kaushik\\github repos\\twitter-streaming-kafka-mongodb\\env\\Scripts\\python.exe -m pip install --upgrade pip' command.\n"
     ]
    }
   ],
   "source": [
    "!pip install kafka-python"
   ]
  },
  {
   "cell_type": "code",
   "execution_count": 23,
   "id": "ff5d8aed",
   "metadata": {},
   "outputs": [
    {
     "name": "stdout",
     "output_type": "stream",
     "text": [
      "Requirement already satisfied: tweepy in d:\\kaushik\\github repos\\twitter-streaming-kafka-mongodb\\env\\lib\\site-packages (4.12.0)\n",
      "Requirement already satisfied: requests-oauthlib<2,>=1.2.0 in d:\\kaushik\\github repos\\twitter-streaming-kafka-mongodb\\env\\lib\\site-packages (from tweepy) (1.3.1)\n",
      "Requirement already satisfied: requests<3,>=2.27.0 in d:\\kaushik\\github repos\\twitter-streaming-kafka-mongodb\\env\\lib\\site-packages (from tweepy) (2.28.1)\n",
      "Requirement already satisfied: oauthlib<4,>=3.2.0 in d:\\kaushik\\github repos\\twitter-streaming-kafka-mongodb\\env\\lib\\site-packages (from tweepy) (3.2.2)\n",
      "Requirement already satisfied: certifi>=2017.4.17 in d:\\kaushik\\github repos\\twitter-streaming-kafka-mongodb\\env\\lib\\site-packages (from requests<3,>=2.27.0->tweepy) (2022.9.24)\n",
      "Requirement already satisfied: urllib3<1.27,>=1.21.1 in d:\\kaushik\\github repos\\twitter-streaming-kafka-mongodb\\env\\lib\\site-packages (from requests<3,>=2.27.0->tweepy) (1.26.12)\n",
      "Requirement already satisfied: idna<4,>=2.5 in d:\\kaushik\\github repos\\twitter-streaming-kafka-mongodb\\env\\lib\\site-packages (from requests<3,>=2.27.0->tweepy) (3.4)\n",
      "Requirement already satisfied: charset-normalizer<3,>=2 in d:\\kaushik\\github repos\\twitter-streaming-kafka-mongodb\\env\\lib\\site-packages (from requests<3,>=2.27.0->tweepy) (2.1.1)\n"
     ]
    },
    {
     "name": "stderr",
     "output_type": "stream",
     "text": [
      "WARNING: You are using pip version 21.2.3; however, version 22.3 is available.\n",
      "You should consider upgrading via the 'D:\\Kaushik\\github repos\\twitter-streaming-kafka-mongodb\\env\\Scripts\\python.exe -m pip install --upgrade pip' command.\n"
     ]
    }
   ],
   "source": [
    "!pip install tweepy"
   ]
  },
  {
   "cell_type": "code",
   "execution_count": 1,
   "id": "7d4764c1",
   "metadata": {},
   "outputs": [],
   "source": [
    "import json"
   ]
  },
  {
   "cell_type": "markdown",
   "id": "5dc09577",
   "metadata": {},
   "source": [
    "### Reading twitter credentials"
   ]
  },
  {
   "cell_type": "code",
   "execution_count": 2,
   "id": "56ff67c9",
   "metadata": {},
   "outputs": [],
   "source": [
    "credentials_file = open('./twitter-credentials.json', 'r')\n",
    "twitter_credentials = json.loads(credentials_file.read())"
   ]
  },
  {
   "cell_type": "markdown",
   "id": "8556d844",
   "metadata": {},
   "source": [
    "### Connecting to twitter API"
   ]
  },
  {
   "cell_type": "code",
   "execution_count": 4,
   "id": "5cc9e1fc",
   "metadata": {},
   "outputs": [],
   "source": [
    "import tweepy"
   ]
  },
  {
   "cell_type": "code",
   "execution_count": 5,
   "id": "1c263a67",
   "metadata": {},
   "outputs": [],
   "source": [
    "client = tweepy.Client(\n",
    "    twitter_credentials['bearer token'],\n",
    "    twitter_credentials['api key'], twitter_credentials['api key secret'],\n",
    "    twitter_credentials['access token'], twitter_credentials['access token secret']\n",
    ")"
   ]
  },
  {
   "cell_type": "markdown",
   "id": "f2083bcf",
   "metadata": {},
   "source": [
    "### Understanding basics\n",
    "\n",
    "More references - https://blog.quantinsti.com/twitter-api-v2/"
   ]
  },
  {
   "cell_type": "code",
   "execution_count": 6,
   "id": "4b016bab",
   "metadata": {},
   "outputs": [
    {
     "name": "stdout",
     "output_type": "stream",
     "text": [
      "[<Tweet id=1586910814786801664 text='டேவிட் மில்லர் அபார பேட்டிங்… மோசமான பீல்டிங்கால் போராடி தோற்ற இந்தியா…!\\n#indvssa #worldcup https://t.co/aqOjaYs0t6'>, <Tweet id=1586898643885457410 text='#PakistanCricket #INDvsSA #WorldCup https://t.co/It26whYVA9'>, <Tweet id=1586843745441439744 text='I’ll be very honest! Please don’t rely on other matches now! We are out of World Cup means out, there are no ifs and buts. We have very poor batting lineup and we surely cant win big tournaments! \\nOur team needs to work hard and we will surely win in future 💚 #INDvsSA #WorldCup'>, <Tweet id=1586760355178594307 text='Indian players after losing to SA\\n#INDvsSA #WorldCup #PakistanCricket #KLRahul𓃵 #ashwin https://t.co/wy7Fh5q4dE'>, <Tweet id=1586758754141237248 text='Ind vs SA: हार के बाद अंकतालिका में दूसरे नंबर पर टीम इंडिया, साउथ अफ्रीका को दी कड़ी टक्कर\\xa0\\n#IndiavsSouthAfrica #INDvsSA\\n#WorldCup #cricketnews\\nhttps://t.co/rajwkZibH2'>, <Tweet id=1586757541475885059 text='نہ عشق میں نہ پیار میں\\nجو مذہ ہیں انڈیا کی _____میں۔\\n#INDvsSA \\n#WorldCup'>, <Tweet id=1586756295377313792 text='RT @Crompton_India: We’re looking forward to a FANtastic match today! 🏏🇮🇳\\n\\n#Crompton #EnergionGroove #EnergionFans #CromptonFans #FullSpeed…'>, <Tweet id=1586755444189822976 text='Bharat ki haar par #Pakistan ko dard. #INDvsSA #WorldCup #T20worldcup22 https://t.co/OEu4QaEuyI'>, <Tweet id=1586755120368619522 text='Indian team ne record barkaar rakha ,\\nWC me South Africa se haarne ka\\n#INDvsSA\\n#WorldCup\\n#KLRahul𓃵'>, <Tweet id=1586754246631821312 text='Pakistan qualifies for Karachi Railway Station. 🤣🤣\\n#INDvsSA \\n#WorldCup https://t.co/XBp0ntWYiH'>]\n"
     ]
    }
   ],
   "source": [
    "results = client.search_recent_tweets(['indvssa','worldcup'])\n",
    "print(results.data)"
   ]
  },
  {
   "cell_type": "code",
   "execution_count": 7,
   "id": "9cc2b51c",
   "metadata": {},
   "outputs": [
    {
     "data": {
      "text/plain": [
       "{'edit_history_tweet_ids': ['1586910814786801664'],\n",
       " 'id': '1586910814786801664',\n",
       " 'text': 'டேவிட் மில்லர் அபார பேட்டிங்… மோசமான பீல்டிங்கால் போராடி தோற்ற இந்தியா…!\\n#indvssa #worldcup https://t.co/aqOjaYs0t6'}"
      ]
     },
     "execution_count": 7,
     "metadata": {},
     "output_type": "execute_result"
    }
   ],
   "source": [
    "_tweet = results.data[0]\n",
    "_tweet.data"
   ]
  },
  {
   "cell_type": "code",
   "execution_count": 8,
   "id": "65819e89",
   "metadata": {},
   "outputs": [],
   "source": [
    "r = client.search_recent_tweets(['indvssa','worldcup'], user_fields=['profile_image_url'], media_fields=['preview_image_url'], expansions=['author_id', 'attachments.media_keys'])"
   ]
  },
  {
   "cell_type": "code",
   "execution_count": 9,
   "id": "a0b3bda6",
   "metadata": {},
   "outputs": [
    {
     "data": {
      "text/plain": [
       "Response(data=[<Tweet id=1586910814786801664 text='டேவிட் மில்லர் அபார பேட்டிங்… மோசமான பீல்டிங்கால் போராடி தோற்ற இந்தியா…!\\n#indvssa #worldcup https://t.co/aqOjaYs0t6'>, <Tweet id=1586898643885457410 text='#PakistanCricket #INDvsSA #WorldCup https://t.co/It26whYVA9'>, <Tweet id=1586843745441439744 text='I’ll be very honest! Please don’t rely on other matches now! We are out of World Cup means out, there are no ifs and buts. We have very poor batting lineup and we surely cant win big tournaments! \\nOur team needs to work hard and we will surely win in future 💚 #INDvsSA #WorldCup'>, <Tweet id=1586760355178594307 text='Indian players after losing to SA\\n#INDvsSA #WorldCup #PakistanCricket #KLRahul𓃵 #ashwin https://t.co/wy7Fh5q4dE'>, <Tweet id=1586758754141237248 text='Ind vs SA: हार के बाद अंकतालिका में दूसरे नंबर पर टीम इंडिया, साउथ अफ्रीका को दी कड़ी टक्कर\\xa0\\n#IndiavsSouthAfrica #INDvsSA\\n#WorldCup #cricketnews\\nhttps://t.co/rajwkZibH2'>, <Tweet id=1586757541475885059 text='نہ عشق میں نہ پیار میں\\nجو مذہ ہیں انڈیا کی _____میں۔\\n#INDvsSA \\n#WorldCup'>, <Tweet id=1586756295377313792 text='RT @Crompton_India: We’re looking forward to a FANtastic match today! 🏏🇮🇳\\n\\n#Crompton #EnergionGroove #EnergionFans #CromptonFans #FullSpeed…'>, <Tweet id=1586755444189822976 text='Bharat ki haar par #Pakistan ko dard. #INDvsSA #WorldCup #T20worldcup22 https://t.co/OEu4QaEuyI'>, <Tweet id=1586755120368619522 text='Indian team ne record barkaar rakha ,\\nWC me South Africa se haarne ka\\n#INDvsSA\\n#WorldCup\\n#KLRahul𓃵'>, <Tweet id=1586754246631821312 text='Pakistan qualifies for Karachi Railway Station. 🤣🤣\\n#INDvsSA \\n#WorldCup https://t.co/XBp0ntWYiH'>], includes={'users': [<User id=1046825078091001856 name=News4 Tamil username=News4Tamil2020>, <User id=1584886455914070019 name=Khan Zada username=zad02276475>, <User id=4787129787 name=D.🇵🇰 username=duu_aaa>, <User id=1457574155289829379 name=Muzamil AK-47 username=MuzamilAk06>, <User id=1549490846537396224 name=dharmsatta username=DharmSattanews>, <User id=1392416727414226946 name=Ahtisham Hanafee username=AhtishamHanafee>, <User id=1260643725895761920 name=YADAV HEMANT username=Hemant39627179>, <User id=794454009272733696 name=Gaurav Kumar Pandey username=gaurav_pandeyg>, <User id=950111344224755717 name=Sanju ♌🇮🇳 username=sanju1950>, <User id=58181598 name=Ankit Srivastava username=ankitsri24>], 'media': [<Media media_key=3_1586898638659354624 type=photo>, <Media media_key=3_1586760346030718979 type=photo>, <Media media_key=3_1586754234653057029 type=photo>]}, errors=[], meta={'newest_id': '1586910814786801664', 'oldest_id': '1586754246631821312', 'result_count': 10, 'next_token': 'b26v89c19zqg8o3fpzelz34e8iezrw66mwiqib7vndlrx'})"
      ]
     },
     "execution_count": 9,
     "metadata": {},
     "output_type": "execute_result"
    }
   ],
   "source": [
    "r"
   ]
  },
  {
   "cell_type": "code",
   "execution_count": 10,
   "id": "29fd9eff",
   "metadata": {},
   "outputs": [
    {
     "data": {
      "text/plain": [
       "[<Tweet id=1586910814786801664 text='டேவிட் மில்லர் அபார பேட்டிங்… மோசமான பீல்டிங்கால் போராடி தோற்ற இந்தியா…!\\n#indvssa #worldcup https://t.co/aqOjaYs0t6'>,\n",
       " <Tweet id=1586898643885457410 text='#PakistanCricket #INDvsSA #WorldCup https://t.co/It26whYVA9'>,\n",
       " <Tweet id=1586843745441439744 text='I’ll be very honest! Please don’t rely on other matches now! We are out of World Cup means out, there are no ifs and buts. We have very poor batting lineup and we surely cant win big tournaments! \\nOur team needs to work hard and we will surely win in future 💚 #INDvsSA #WorldCup'>,\n",
       " <Tweet id=1586760355178594307 text='Indian players after losing to SA\\n#INDvsSA #WorldCup #PakistanCricket #KLRahul𓃵 #ashwin https://t.co/wy7Fh5q4dE'>,\n",
       " <Tweet id=1586758754141237248 text='Ind vs SA: हार के बाद अंकतालिका में दूसरे नंबर पर टीम इंडिया, साउथ अफ्रीका को दी कड़ी टक्कर\\xa0\\n#IndiavsSouthAfrica #INDvsSA\\n#WorldCup #cricketnews\\nhttps://t.co/rajwkZibH2'>,\n",
       " <Tweet id=1586757541475885059 text='نہ عشق میں نہ پیار میں\\nجو مذہ ہیں انڈیا کی _____میں۔\\n#INDvsSA \\n#WorldCup'>,\n",
       " <Tweet id=1586756295377313792 text='RT @Crompton_India: We’re looking forward to a FANtastic match today! 🏏🇮🇳\\n\\n#Crompton #EnergionGroove #EnergionFans #CromptonFans #FullSpeed…'>,\n",
       " <Tweet id=1586755444189822976 text='Bharat ki haar par #Pakistan ko dard. #INDvsSA #WorldCup #T20worldcup22 https://t.co/OEu4QaEuyI'>,\n",
       " <Tweet id=1586755120368619522 text='Indian team ne record barkaar rakha ,\\nWC me South Africa se haarne ka\\n#INDvsSA\\n#WorldCup\\n#KLRahul𓃵'>,\n",
       " <Tweet id=1586754246631821312 text='Pakistan qualifies for Karachi Railway Station. 🤣🤣\\n#INDvsSA \\n#WorldCup https://t.co/XBp0ntWYiH'>]"
      ]
     },
     "execution_count": 10,
     "metadata": {},
     "output_type": "execute_result"
    }
   ],
   "source": [
    "r.data"
   ]
  },
  {
   "cell_type": "code",
   "execution_count": 11,
   "id": "4839da7e",
   "metadata": {},
   "outputs": [
    {
     "data": {
      "text/plain": [
       "[<Tweet id=1586910814786801664 text='டேவிட் மில்லர் அபார பேட்டிங்… மோசமான பீல்டிங்கால் போராடி தோற்ற இந்தியா…!\\n#indvssa #worldcup https://t.co/aqOjaYs0t6'>,\n",
       " <Tweet id=1586898643885457410 text='#PakistanCricket #INDvsSA #WorldCup https://t.co/It26whYVA9'>,\n",
       " <Tweet id=1586843745441439744 text='I’ll be very honest! Please don’t rely on other matches now! We are out of World Cup means out, there are no ifs and buts. We have very poor batting lineup and we surely cant win big tournaments! \\nOur team needs to work hard and we will surely win in future 💚 #INDvsSA #WorldCup'>,\n",
       " <Tweet id=1586760355178594307 text='Indian players after losing to SA\\n#INDvsSA #WorldCup #PakistanCricket #KLRahul𓃵 #ashwin https://t.co/wy7Fh5q4dE'>,\n",
       " <Tweet id=1586758754141237248 text='Ind vs SA: हार के बाद अंकतालिका में दूसरे नंबर पर टीम इंडिया, साउथ अफ्रीका को दी कड़ी टक्कर\\xa0\\n#IndiavsSouthAfrica #INDvsSA\\n#WorldCup #cricketnews\\nhttps://t.co/rajwkZibH2'>,\n",
       " <Tweet id=1586757541475885059 text='نہ عشق میں نہ پیار میں\\nجو مذہ ہیں انڈیا کی _____میں۔\\n#INDvsSA \\n#WorldCup'>,\n",
       " <Tweet id=1586756295377313792 text='RT @Crompton_India: We’re looking forward to a FANtastic match today! 🏏🇮🇳\\n\\n#Crompton #EnergionGroove #EnergionFans #CromptonFans #FullSpeed…'>,\n",
       " <Tweet id=1586755444189822976 text='Bharat ki haar par #Pakistan ko dard. #INDvsSA #WorldCup #T20worldcup22 https://t.co/OEu4QaEuyI'>,\n",
       " <Tweet id=1586755120368619522 text='Indian team ne record barkaar rakha ,\\nWC me South Africa se haarne ka\\n#INDvsSA\\n#WorldCup\\n#KLRahul𓃵'>,\n",
       " <Tweet id=1586754246631821312 text='Pakistan qualifies for Karachi Railway Station. 🤣🤣\\n#INDvsSA \\n#WorldCup https://t.co/XBp0ntWYiH'>]"
      ]
     },
     "execution_count": 11,
     "metadata": {},
     "output_type": "execute_result"
    }
   ],
   "source": [
    "r[0]"
   ]
  },
  {
   "cell_type": "code",
   "execution_count": 12,
   "id": "dc9e1ff2",
   "metadata": {},
   "outputs": [
    {
     "data": {
      "text/plain": [
       "{'users': [<User id=1046825078091001856 name=News4 Tamil username=News4Tamil2020>,\n",
       "  <User id=1584886455914070019 name=Khan Zada username=zad02276475>,\n",
       "  <User id=4787129787 name=D.🇵🇰 username=duu_aaa>,\n",
       "  <User id=1457574155289829379 name=Muzamil AK-47 username=MuzamilAk06>,\n",
       "  <User id=1549490846537396224 name=dharmsatta username=DharmSattanews>,\n",
       "  <User id=1392416727414226946 name=Ahtisham Hanafee username=AhtishamHanafee>,\n",
       "  <User id=1260643725895761920 name=YADAV HEMANT username=Hemant39627179>,\n",
       "  <User id=794454009272733696 name=Gaurav Kumar Pandey username=gaurav_pandeyg>,\n",
       "  <User id=950111344224755717 name=Sanju ♌🇮🇳 username=sanju1950>,\n",
       "  <User id=58181598 name=Ankit Srivastava username=ankitsri24>],\n",
       " 'media': [<Media media_key=3_1586898638659354624 type=photo>,\n",
       "  <Media media_key=3_1586760346030718979 type=photo>,\n",
       "  <Media media_key=3_1586754234653057029 type=photo>]}"
      ]
     },
     "execution_count": 12,
     "metadata": {},
     "output_type": "execute_result"
    }
   ],
   "source": [
    "r[1]"
   ]
  },
  {
   "cell_type": "code",
   "execution_count": 13,
   "id": "d7c991e4",
   "metadata": {},
   "outputs": [
    {
     "data": {
      "text/plain": [
       "[]"
      ]
     },
     "execution_count": 13,
     "metadata": {},
     "output_type": "execute_result"
    }
   ],
   "source": [
    "r[2]"
   ]
  },
  {
   "cell_type": "code",
   "execution_count": 14,
   "id": "5d11aa5d",
   "metadata": {},
   "outputs": [
    {
     "data": {
      "text/plain": [
       "{'newest_id': '1586910814786801664',\n",
       " 'oldest_id': '1586754246631821312',\n",
       " 'result_count': 10,\n",
       " 'next_token': 'b26v89c19zqg8o3fpzelz34e8iezrw66mwiqib7vndlrx'}"
      ]
     },
     "execution_count": 14,
     "metadata": {},
     "output_type": "execute_result"
    }
   ],
   "source": [
    "r[3]"
   ]
  },
  {
   "cell_type": "markdown",
   "id": "7928b001",
   "metadata": {},
   "source": [
    "### Sample streaming from twitter"
   ]
  },
  {
   "cell_type": "code",
   "execution_count": 64,
   "id": "7cc31945",
   "metadata": {},
   "outputs": [
    {
     "name": "stdout",
     "output_type": "stream",
     "text": [
      "Connected..\n",
      "RT @meghan_charts: .@Charlieputh &amp; @Meghan_Trainor's “Marvin Gaye” has now surpassed 700 million on YouTube. That's her 4th music video to…\n",
      "{'users': [<User id=1394335340328996867 name=Precious Mikel Taduyo username=antonaintshit>, <User id=733667040213491712 name=Meghan Trainor Charts username=meghan_charts>, <User id=15945351 name=Charlie Puth username=charlieputh>, <User id=254830969 name=Meghan Trainor username=Meghan_Trainor>]}\n",
      "\n",
      "RT @R7NPsTLd2Fxp7dM: 推しは京田 #プロスピベスト https://t.co/raEUy1KjHc\n",
      "{'users': [<User id=1219295686761467904 name=Ta＠野球垢 username=Ta33993501>, <User id=1501566771710480390 name=低弾道 username=R7NPsTLd2Fxp7dM>]}\n",
      "\n",
      "RT @AgabaClintonDan: African Union has to be realized strengthen ourselves and to pull these resources together and put them into use strat…\n",
      "{'users': [<User id=1555594463392813056 name=Baby♥️ username=slimcutiy>, <User id=4899573647 name=𝐀𝐠𝐚𝐛𝐚 𝐂𝐥𝐢𝐧𝐭𝐨𝐧 𝐃𝐚𝐧𝐢𝐞𝐥 username=AgabaClintonDan>]}\n",
      "\n",
      "@Axis__s かなしい\n",
      "{'users': [<User id=1296048089237557251 name=ふぇんりるらる username=ralcq_>, <User id=1477924981380382721 name=ふぇんりるあく username=Axis__s>]}\n",
      "\n",
      "RT @lovemelovemyrhy: อวยเข้าไป ยิ่งเก๊กๆมั่นๆอยู่แล้ว ยิ่งได้หน้าเพิ่มดาเมจความมั่นให้มันอีก เอาอีก\n",
      "{'users': [<User id=3161215597 name=𝘭𝘪𝘭𝘣𝘰𝘰 username=youtubaholicc>, <User id=3186566678 name=ry🎧 username=lovemelovemyrhy>]}\n",
      "\n",
      "RT @carmen_paint: La Banca SUPUESTAMENTE Otra vez quierer dar el pelotazo para quedarse con las casas que quedan hipotecadas que no puedan…\n",
      "{'users': [<User id=1230743107 name=Raquel username=Raquel70dr>, <User id=956847962252079104 name=Carmen username=carmen_paint>]}\n",
      "\n",
      "RT @winnttaebear: RT AND REPLY\n",
      "\n",
      "I vote #JIMIN of @BTS_twt  for #NETIZENSREPORT as Asian Celebrity of the year #ACOTY2022\n",
      "#NOMINEE https://t…\n",
      "{'users': [<User id=4605748879 name=🄹𝖆𝑯𝓹𝕺𝓹𝑷𝒍𝑬 ⓔ username=apple_Jhope>, <User id=1270359061175783424 name=hope⁷🧑‍🚀 username=winnttaebear>, <User id=335141638 name=방탄소년단 username=BTS_twt>]}\n",
      "\n",
      "RT @Jasurbe68468714: cok gibi bu satıcının nasıl ben birisinin #alsancak kalmak #cigli sorunun  kör olmaz soruna miyim Senin olur ya?? sizc…\n",
      "{'users': [<User id=1584909677560823809 name=Mustafa Karaduman username=Mustafa69443489>, <User id=1253895622123552770 name=Jasurbek username=Jasurbe68468714>]}\n",
      "\n",
      "RT @4eveOfficial: ฮาโลวีนนี้หลอกอะไรก็ได้ แต่อย่าหลอกว่ารักก็พอ แฮร่!👻   Happy Halloween นะคะทุกคน 🎃\n",
      "\n",
      "#4EVE\n",
      "#Halloween\n",
      "#Halloween2022 https…\n",
      "{'users': [<User id=1429383865118826500 name=³⁹. JN username=Ynny39>, <User id=1314096525874614272 name=4EVE_Official username=4eveOfficial>]}\n",
      "\n",
      "RT @robertamondong: craving pad thai!! 🤤\n",
      "{'users': [<User id=1426127722196062211 name=🅣🅘🅖🅔🅡🐯🐰☺️»» 𝕊𝕞𝕚𝕝𝕖𝕪 «« ヅ username=riangraem>, <User id=1585976290162921472 name=Roberta Tamondong username=robertamondong>]}\n",
      "\n",
      "RT @NakedVibezz: Amen \n",
      "\n",
      "SHEGGZ THE MAIN DEAL\n",
      "#SheggzOlu\n",
      "{'users': [<User id=1419026803834904582 name=Sheeda❤️ username=RashedatuS>, <User id=1339998689016782849 name=Genesis username=NakedVibezz>]}\n",
      "\n",
      "Un dibujito :3 \n",
      "Sígueme porfi ^^\n",
      "#Villanous #CartoonNetwork #dibujo #fanart #FreddyMC https://t.co/5nsTaRZL9f\n",
      "{'users': [<User id=1413555935436550148 name=🎃Freddy🎃 username=S0yfreddy>]}\n",
      "\n",
      "https://t.co/n5qnfoyfu6 https://t.co/GgeA6HEUzb\n",
      "{'users': [<User id=1524671347695456256 name=게 username=10Drks>]}\n",
      "\n",
      "RT @museun_happen: 요즘 초등교사가 새벽에 학부모한테 받는다는 문자... https://t.co/ey8UShBbJc\n",
      "{'users': [<User id=1264538273583525890 name=보라 username=bora_0813>, <User id=1023826712822333441 name=무슨 일이 일어나고 있나요? username=museun_happen>]}\n",
      "\n",
      "RT @kameda_kakitane: 【❄期間限定コラボ❄】\n",
      "\n",
      "／\n",
      "\n",
      "明治のベスト3と\n",
      "亀田の柿の種ミルクチョコ&amp;ホワイトチョコ\n",
      "が50名様に当たる\n",
      "フォロー＆RTキャンペーンを開催！\n",
      "\n",
      "＼\n",
      "\n",
      "①@Kameda_JP をフォロー\n",
      "②@meijivalentine をフォロー…\n",
      "{'users': [<User id=445573409 name=パティ username=accopanda>, <User id=2829109268 name=亀田の柿の種（公式） username=kameda_kakitane>, <User id=1129190079786700800 name=亀田製菓【公式】 username=Kameda_JP>, <User id=953494042775441409 name=明治ミルクチョコレート【公式】 username=meijivalentine>]}\n",
      "\n",
      "I am Joe and my wife has gone into cardiac arrest. Bozo!\n",
      "{'users': [<User id=1486386319429304323 name=Joe username=JoeBotLikes>]}\n",
      "\n",
      "RT @nf5ll_: دون نقص فالقبآيل بلاشگ وريـب\n",
      "القبايل ماحدن يقدر يغط سھومھآ\n",
      "\n",
      "گل قوم لھم فالمرجلھ قسم ونصيب\n",
      "وآنا من عتيبه خيار آلقسوم قسومھآ http…\n",
      "{'users': [<User id=1251583813425250304 name=فاطمة 🍃 ‏كود خصم ستايلي : DD username=ffatmah_99>, <User id=1439530879857086464 name=نواف/aleutaybi username=nf5ll_>]}\n",
      "\n",
      "RT @nine_inside: nude dune dude https://t.co/AtxJgnDbsa\n",
      "{'users': [<User id=1581003463550541826 name=RiverRat username=deadriverkid>, <User id=1202026912429805575 name=NINE_INSIDE 🔝2% username=nine_inside>]}\n",
      "\n",
      "RT @davidmoranr_: @Chomingo_ https://t.co/oUlXH6c5Zc\n",
      "{'users': [<User id=1510757813571801093 name=Herbert Martínez Trigueros🏴‍☠️🏴‍☠️🏴‍☠️🏴‍☠️🏴‍☠ username=HMT400>, <User id=126725894 name=david username=davidmoranr_>, <User id=263447077 name=Chomingo Chávez Hasbún username=Chomingo_>]}\n",
      "\n",
      "There was 3 and there was a clean sheet quite alright. https://t.co/KYUz8ytzVx https://t.co/BdQiHtPbLZ\n",
      "{'users': [<User id=1458862663363145734 name=Chidera🤍 username=MorningStarRMA>, <User id=818471527800836097 name=Rukky username=rukki_e>]}\n",
      "\n",
      "@ArvindKejriwal Number can change but not Destiny\n",
      "\n",
      "2002 = 2022\n",
      "{'users': [<User id=2978166290 name=Arif Khan 🇮🇳 username=arifkhanak1995>, <User id=405427035 name=Arvind Kejriwal username=ArvindKejriwal>]}\n",
      "\n",
      "一平くんが！💦 https://t.co/phW4G8Ykj6\n",
      "{'users': [<User id=889022026240860160 name=ミー@baystars神里和毅＆Girls2＆妖怪ウォッチ垢 username=green087051>, <User id=1128977972646387712 name=ちぃたん☆／Chiitan username=chiitan7407>]}\n",
      "\n",
      "@ALPTAN27 Mani zayi oldu,kararı iptal etsinler artık, belli ki yanlış şeyler olmuş\n",
      "{'users': [<User id=1340558747807207425 name=HAKKI username=CATLI3163>, <User id=1233127618792378368 name=TRADERALP username=ALPTAN27>]}\n",
      "\n",
      "@RobStevensXXX So hard in un overall and rubber boots  I would like to have fun with you man\n",
      "{'users': [<User id=1374867598924472325 name=Antonio username=Antonio46928551>, <User id=3596926455 name=Rob Stevens username=RobStevensXXX>]}\n",
      "\n",
      "서귀포룸싸룽\n",
      "부작용이없는\n",
      "타이틀곡\n",
      "증편군철물점\n",
      "오디션지원\n",
      "단짝친구랑\n",
      "절제\n",
      "순덕이 https://t.co/TTatSdwCFd\n",
      "{'users': [<User id=2335253274 name=변기훈 username=byungihoon>]}\n",
      "\n",
      "RT @94ws_: น้องยอร์ชน่ารักอะ เดินสวนกัน ก้าวขาไม่ออกทั้งกลุ่ม มากับน้องเจเจ ละแบบเพื่อนก็พูดน้องยอร์ช ละน้องก็แบบค้าบบ ชั้นถามถ่ายรูปได้มั้…\n",
      "{'users': [<User id=1128331494307401728 name=🥑 username=pplls_>, <User id=306650229 name=♡94 username=94ws_>]}\n",
      "\n",
      "RT @koikeya_cp: ＼\\その場で当たる/／\n",
      "#ハロウィン 特別企画🎃\n",
      "The KOIKEYA全味当たる\n",
      "プレゼントキャンペーン✨\n",
      "\n",
      "1⃣@koikeya_cp をフォロー\n",
      "2⃣これを10/31 23:59迄にRT\n",
      "当選者のみに即DM 計10名🎁\n",
      "#湖池屋 #TheK…\n",
      "{'users': [<User id=751782924102406145 name=ごすけ😎 username=itttdblmUwTjLTV>, <User id=2371235972 name=湖池屋 コイケヤ【公式】 username=koikeya_cp>]}\n",
      "\n",
      "RT @peachwine_1492: ทำไมไทเปถึงได้ทรงผมเปียข้างของ ไบเบิ้ล และผมหน้าม้าของบะบิว\n",
      "\n",
      "#KPWorldTourTaipeiD1 \n",
      "#BibleWichapas \n",
      "#BuildJakapan \n",
      "#ไบเ…\n",
      "{'users': [<User id=1105442972445761536 name=ไม่เตง ไม่บี๋ แต่เรียกพ่อ username=nong_chaya>, <User id=1145245785295974401 name=☁️SKYPIEAWINE☁️ (MILKYPEACH:BBB) 🫧 (柏博🖤💙金建成) username=peachwine_1492>]}\n",
      "\n",
      "@furubemako まこらんさん初めましてー！モデルお褒めいただき嬉しいです！！(∩´∀`∩)💕\n",
      " ビビちゃんモデル作ってらしてるんですね？！めっちゃ可愛いです🥺\n",
      "\n",
      "これからよろしくお願いします🙏\n",
      "{'users': [<User id=1181432985356103680 name=月野闇子(MMD) username=yaminanodesu>, <User id=1345000622706212866 name=まこらん username=furubemako>]}\n",
      "\n",
      "RT @LISANATIONS_: Lisa and Rosé talking about how different it is performing in front of camera and in front of their fans. MC LISA ERA 🥰…\n",
      "{'users': [<User id=382321415 name=Holmo^BornPink'' username=holmo_BP10>, <User id=973770115442446338 name=🏆👩‍🚀LISANATIONS username=LISANATIONS_>]}\n",
      "\n",
      "RT @rajeshd70375709: #KnowAboutChhathPuja\n",
      "आन धर्म जो मन बसे, कोए करो नर नार।\n",
      "गरीब दास जिन्दा कहै, वो जासी यम द्वार।।\n",
      "संत गरीब दास जी ने कहा…\n",
      "{'users': [<User id=1541068390063808517 name=Seema Rani username=SeemaRa10548814>, <User id=1469946792607313921 name=rajesh devi sat sahib jii username=rajeshd70375709>]}\n",
      "\n",
      "RT @blue00f4: スレッタが誰かとデートしてると聞くたびにすっ飛んで行きそう\n",
      "#水星の魔女 https://t.co/b58G5mKCpX\n",
      "{'users': [<User id=751980450835378177 name=KIWIOASIS username=GoldKiwioasis>, <User id=2422230212 name=大伏アオ username=blue00f4>]}\n",
      "\n",
      "RT @noheartinhim: after a while you just become numb to shit\n",
      "{'users': [<User id=2173296258 name=🦋jesy🦋 username=just_jesy95>, <User id=1530634091120496644 name=J 5 🦇 username=noheartinhim>]}\n",
      "\n",
      "@misstarisato Dann doch lieber Tee und ein paar leichte Kekse für den Magen statt Kaffee? 😊😊\n",
      "{'users': [<User id=1579793301103853568 name=Woof username=der_Woofi>, <User id=1104771860502331392 name=Frau Kirschblüte username=misstarisato>]}\n",
      "\n",
      "RT @hwasboy: D-8\n",
      "\n",
      "PLS RT &amp; DROP YOUR VOTE \n",
      "\n",
      "I vote #ateez for World Wide Fans Choice #MAMAVOTE @ATEEZofficial https://t.co/t82Jl2erql\n",
      "{'users': [<User id=1399984063805591552 name=ATEEZ month🏴‍☠️❤️⩜⃝ !| gie username=ateezamores>, <User id=1536819265801703426 name=Dani⁸💜 username=hwasboy>, <User id=923415570522914819 name=ATEEZ(에이티즈) username=ATEEZofficial>]}\n",
      "\n",
      "RT @RomainMigus: Con la victoria de Lula, los golpistas bolivianos no tienen otra que parar su aventura antidemocratica!\n",
      "\n",
      "América latina es…\n",
      "{'users': [<User id=275554142 name=Thierry Fossaert🔻φ 🧹🐢🐝 username=tfolwi>, <User id=741070106 name=Romain Migus username=RomainMigus>]}\n",
      "\n",
      "@JayMG2205 @bindelj https://t.co/MXLaU8kboO\n",
      "{'users': [<User id=884846057783525380 name=Charles V. D. Alcher username=cvdalcher>, <User id=1433294599443730439 name=Jaywalker Blue username=JayMG2205>, <User id=209512953 name=Julie Bindel username=bindelj>]}\n",
      "\n",
      "@Doc_maduznft It was okay ig slept of as speaker on doodlegenices space\n",
      "{'users': [<User id=1435298874567143425 name=_shwepps 👁‍🗨 username=i_am_michea>, <User id=1519781162830422024 name=Doc Maduz isn't giving up username=Doc_maduznft>]}\n",
      "\n",
      "RT @bulegesulays: @Duffytrader Benim en favori coinim @ElectraProtocol #xep🧿 $xep tanımayan İlk defa ismini duyan dostlar Mutlaka araştırın…\n",
      "{'users': [<User id=1473702945703317512 name=Mustafa username=ChainSmoker87>, <User id=954799209399685121 name=The Last Promoter username=bulegesulays>, <User id=1395029171164811274 name=Daffy Trader username=Duffytrader>, <User id=917007096209723392 name=Electra Protocol username=ElectraProtocol>]}\n",
      "\n",
      "RT @BigBB4Fx: เพื่อนโบทรุกควยสวยถุง54 มาลองเย็ดรูหีแฟน มาถึงแฟนทั้งกินทั้งนั่งทั้งร่อนทั้งขย่มจนเพื่อนแตกแล้วเย็ดต่อ แล้วเย็ดแล้วแตกอีกทั้ง…\n",
      "{'users': [<User id=1586628387342151680 name=ปีโป้ username=pp94904346>, <User id=1311703669998407680 name=@BigBB4Fx username=BigBB4Fx>]}\n",
      "\n",
      "RT @beoncloud_th: 📍ตารางงานศิลปิน Be On Cloud \n",
      "🗓วันจันทร์ที่ 31 ตุลาคม - วันจันทร์ที่ 7 พฤศจิกายน 2565\n",
      "\n",
      "#BeOnCloud https://t.co/mLaorUr9eD\n",
      "{'users': [<User id=1302568338250399744 name=𝗦𝘀𝗮𝗺𝗶🧸 username=galaxy_celeste>, <User id=1301913750606213120 name=Be On Cloud username=beoncloud_th>]}\n",
      "\n",
      "RT @ram15233493: marketten ȇ̈s̑̈c̑̈ȏ̈ȓ̈t̑ yazılmalı. küçücük Sorun ayakta dedi. bаşkаsını biz oyundun. #serdivan fısıltılarını sonra ifаde…\n",
      "{'users': [<User id=1585352489041264644 name=Emre Kanyılmaz username=EmreKanylmaz8>, <User id=1553375385789771776 name=ram username=ram15233493>]}\n",
      "\n",
      "RT @balladeluce: なうぷれいーんぐ https://t.co/7Z1B55bwnO\n",
      "{'users': [<User id=940511185912283137 name=アジフライ先生 username=numasigimi>, <User id=702090655430905856 name=トンネルぬけたらスカイライン username=balladeluce>]}\n",
      "\n",
      "RT @TOWER_MJMF: ＼特典付きます🎁／\n",
      "\n",
      "今週11月2日発売\n",
      "SixTONES\n",
      "シングル『Good Luck! / ふたり』💎\n",
      "\n",
      "❤️💗🖤💛💚💙\n",
      "\n",
      "今からのご予約で\n",
      "形態ごと別購入先着特典付きます✨\n",
      "\n",
      "#SixTONES #SixTONES_GoodLuck #Si…\n",
      "{'users': [<User id=1311053159427497985 name=м username=tk_123_st>, <User id=1351021693398102019 name=MORE JOHNNY'S, MORE FUN!　(モア ジャニーズ,モア ファン！) username=TOWER_MJMF>]}\n",
      "\n",
      "RT @2_auxipr_CN: The scuttlebutt https://t.co/fKrXjtlq9k\n",
      "{'users': [<User id=1401252678181785603 name=G R A N D R U E 281315 （澳喜特战旅）🌻🌻🌻 username=GRANdRUE4>, <User id=1503609269186281476 name=澳喜公关外联 🌻🌻🌻中文 username=2_auxipr_CN>]}\n",
      "\n",
      "@alestierre RAJA IS MY EX. WOYYYYYY KENAPA UDAH MANTANNNNN MAU SAMPE MARRIED 😭😭😭😭😭\n",
      "{'users': [<User id=1140506415229837317 name=Princess jasmine username=kokoonutbutter>, <User id=3314522114 name=☾ username=alestierre>]}\n",
      "\n",
      "RT @FemJamz: That perfect face all ready for a massive load ☺️💋 https://t.co/82PfMaXkNk\n",
      "{'users': [<User id=1575634477748846593 name=Hard oak username=hardoak09>, <User id=1489694863738216448 name=JAMZ 🤍 username=FemJamz>]}\n",
      "\n",
      "@Oluwamidus @punk9059 @WickdNFT @_Mishuman_ @OGDfarmer @CirrusNFT @iiaone @jumpmanft Twitter lists are great!\n",
      "\n",
      "Thank you for the recommendations\n",
      "{'users': [<User id=76243478 name=itzBolt.eth username=itzBoltNFT>, <User id=1467683592230912001 name=MIDUS username=Oluwamidus>, <User id=1449164448321605632 name=NFTstatistics.eth username=punk9059>, <User id=1462755440840921091 name=WickdNFT username=WickdNFT>, <User id=1457375848516968453 name=Mishuman  (networkooor) username=_Mishuman_>, <User id=1362163416216055809 name=DFarmer.eth username=OGDfarmer>, <User id=834123445856145408 name=Cirrus username=CirrusNFT>, <User id=1457163859 name=iiaone username=iiaone>, <User id=859011517 name=jumpman username=jumpmanft>]}\n",
      "\n",
      "RT @Rana31999202: https://t.co/rKFF5phf8r\n",
      "𝖂𝖊 𝖓𝖊𝖛𝖊𝖗 𝖍𝖆𝖉 𝖇𝖔𝖔𝖐𝖘 𝖆𝖙 𝖍𝖔𝖒\n",
      "##지구에서년지성아_환영해 https://t.co/2M6LQaE7Fk\n",
      "{'users': [<User id=517959447 name=danu afryant username=dnafryant>, <User id=1575507419366850561 name=Rana username=Rana31999202>]}\n",
      "\n",
      "@devoneeeee I cant😭😭😭\n",
      "{'users': [<User id=1009331224660271104 name=czbeefburger username=Wpush1>, <User id=1517120606864437248 name=devon💢 username=devoneeeee>]}\n",
      "\n",
      "RT @ChParvezElahi: سینئر صحافی صدف نعیم کی موت پر ہر دل دکھی ہے۔سوگوار خاندان کے غم میں برابر کے شریک ہیں۔چیئرمین پی ٹی آئی عمران خان کی ہد…\n",
      "{'users': [<User id=1512520126079418373 name=Umer GUJJAR username=UMERGUJJAR2022>, <User id=851382606855905281 name=Ch Parvez Elahi username=ChParvezElahi>]}\n",
      "\n",
      "RT @itsAdults: 👄👄 https://t.co/vvpeX8awkS\n",
      "{'users': [<User id=1570027224048467971 name=YouTube porn username=YouTubeporn01>, <User id=1521864031211978752 name=Adult Hub username=itsAdults>]}\n",
      "\n",
      "Hendak Cuci Tangan, Seorang Bocah Terseret Arus di Sungai Lusi Grobogan https://t.co/tZZcPqGvTN \n",
      "\n",
      "#62NegeriKrisis #Gempa #Ayokegunungkidul #2ล้าน1แสนไบเบิ้ลมาดแมนแสนเท่ #PrayForItewon #KhilafClub\n",
      "{'users': [<User id=1501837785682280452 name=Lingkar Media Group username=lingkarmediag>]}\n",
      "\n",
      "RT @fernnnfernnfern: ฉันชื่อการกุศล โปรดบริจาคเงินของคุณ มาที่บัญชีของฉัน\n",
      "{'users': [<User id=1348654894283034628 name=🥦🤏🏻 username=sokalamm>, <User id=1039040348 name=fernfern username=fernnnfernnfern>]}\n",
      "\n",
      "RT @GrendoKata: vardır, şiir Atilla yoktur,Yaraladıkları yaraları Onun bakışlarında sevmezcünkü #çerkezköy İlhan  onların hepBazıları https…\n",
      "{'users': [<User id=1584808203040309248 name=Gülcan Yaşit username=YasitGulcan>, <User id=1298889892521443334 name=حسسونه🧡 username=GrendoKata>]}\n",
      "\n",
      "Evet altı ay süren Eylül ayı sonunda bitti yavru 😅\n",
      "{'users': [<User id=1364723761694593025 name=kişiselgidişim username=koktas_hasan420>]}\n",
      "\n",
      "RT @TheAfricaReport: A year on, and the military in #Sudan \"has not moved an inch\". \"They indicate our rejection of the coup and not surren…\n",
      "{'users': [<User id=244957467 name=Bobby Ghosh username=ghoshworld>, <User id=18017198 name=The Africa Report username=TheAfricaReport>]}\n",
      "\n",
      "RT @andaleebfatima6: #StopBlamingInstitutions \n",
      "The incumbent DG ISPR has made it a point to reiterate this on many an occasion in recent we…\n",
      "{'users': [<User id=1541850301589819392 name=Razia username=r998402>, <User id=1553343790727024640 name=andaleeb fatima username=andaleebfatima6>]}\n",
      "\n",
      "RT @iopleqw: คนขายชาติ คนขายชาติ คนขายชาติ\n",
      "คนขายชาติ คนขายชาติ คนขายชาติ\n",
      "#ประยุทธ์ขายชาติ https://t.co/Hlmi7fYTwX\n",
      "{'users': [<User id=574402645 name=แมวเองก็ลำบาก username=BaaabBle>, <User id=1202323632162164736 name=Karioo username=iopleqw>]}\n",
      "\n",
      "@destroyherluv goodnight\n",
      "{'users': [<User id=1215764780134404096 name=kina username=realkina>, <User id=1533354674241556482 name=a ~~ username=destroyherluv>]}\n",
      "\n",
      "RT @RabiaKhannPti: Pakistani people Rejected PMLN and as to Go Shahbaz Sharif and PDM grenoment 🙌\n",
      "#حقیقی_آزادی_لانگ_مارچ \n",
      "#ImranRiazKhan \n",
      "S…\n",
      "{'users': [<User id=1508139789991567363 name=Zahid Iqbal username=ZahidIq38341464>, <User id=1523527602883162112 name=Rabia khan PTI ✌️ username=RabiaKhannPti>]}\n",
      "\n"
     ]
    },
    {
     "name": "stdout",
     "output_type": "stream",
     "text": [
      "RT @Xenos505: Mommy has had one God awful day\n",
      "Send to fix it.\n",
      "I won't ask twice\n",
      "Goon as long as you need to soften your brain a bit🔥 https:…\n",
      "{'users': [<User id=1376677559761563656 name=🌺GoddessAnaB🌺 username=GoddessAnaB>, <User id=1522084152589398017 name=~Mistress Mia~ username=Xenos505>]}\n",
      "\n",
      "@dillasz @kegblgnunfaedh Aminnn, dungo sik yoo\n",
      "{'users': [<User id=183120747 name=Yoviani Jelitasari username=yovijel>, <User id=1343653153690976256 name=Dilla Saezana username=dillasz>, <User id=1172167188800655360 name=Kegoblogan.Unfaedah username=kegblgnunfaedh>]}\n",
      "\n",
      "RT @V_Tatsumi: #おはようVtuber \n",
      "#新人Vtuberだって拡散されたい \n",
      "#男性Vtuber \n",
      "#いってらっしゃい\n",
      "\n",
      "おはよう！\n",
      "今日で１０月もおしまい。\n",
      "気温も本格的に低くなってきて年末が近づいている実感がわいてきたね・・・。\n",
      "悔いのないように後２か月存…\n",
      "{'users': [<User id=2192713945 name=ゆかりなな🐱🌺 username=yukarinanaLove>, <User id=1539773058852208640 name=龍水乃白(ﾀﾂﾐﾉｼﾛ)🐉＠ぎゃっぷ系V１１月毎日投稿 username=V_Tatsumi>]}\n",
      "\n",
      "RT @chiechiineko: 明宝完成しました！\n",
      "\n",
      "全て売り物になります！\n",
      "\n",
      "全てその場で持ち帰りできます！早い者勝ち✨\n",
      "廊下のイラストもです！\n",
      "\n",
      "私イラストめっちゃ安くしてあるので持って帰ってくださいね✨\n",
      "\n",
      "欲しい時は一階のスタッフにお声掛けください😊\n",
      "\n",
      "絵が無くなると…\n",
      "{'users': [<User id=1307642298218377217 name=梅田裕子 username=YuunyaHime>, <User id=432600988 name=小島千枝🌝主催岐阜マーサ21 七宗 アマビエ 郡上明宝 username=chiechiineko>]}\n",
      "\n",
      "RT @LoadsOnLoads: How many loads do you count? https://t.co/rsDJK8r6sN\n",
      "{'users': [<User id=1369230448451227654 name=☬ Dark username=alt_holyshit>, <User id=1358437934878380035 name=Loads on top of Loads username=LoadsOnLoads>]}\n",
      "\n",
      "RT @NotSlimShadyi: Han humein andaza Nahi tha K Jaise hi Khara hoga tum ne moun main le Lena hai 🤦🏻‍♂️\n",
      "{'users': [<User id=2190191961 name=Muhammad Faraz username=PK123083>, <User id=724319005293436929 name=Nehad username=NotSlimShadyi>]}\n",
      "\n",
      "RT @abeillellieba: เค้าน่ารักนะคะแต่เค้าก็แปกด้วย 🐿️🤏🏻 #ROSÉ https://t.co/Ph3XZX85UO\n",
      "{'users': [<User id=928304051342557184 name=F username=daehwii0011>, <User id=182738624 name=·ꕤ ABEILLÉ☁️ꔛ username=abeillellieba>]}\n",
      "\n",
      "RT @kiriehiro: #第一回切り絵を光に透かす大会\n",
      "切り絵って光に透かすとめちゃくちゃ綺麗なんですよね https://t.co/9BgbY2QOO4\n",
      "{'users': [<User id=1111988260270567426 name=いぬライス username=Goldfish_ice>, <User id=2846527824 name=切り絵作家 斉藤洋樹 -Hiroki Saito- username=kiriehiro>]}\n",
      "\n",
      "RT @oOmeg__: 【10/30 スノラボ 新潟 夜】\n",
      "しょっぴーがジムに行って受付で名前書いてたらムキムキのトレーナーさんに『渡辺さん！』って声かけられて、『目黒さんにマジで感動したって伝えてください！』\n",
      "って話めちゃくちゃおもろかったWWW\n",
      "ジムのゴリゴリマッチョたち…\n",
      "{'users': [<User id=1469853261511688197 name=𝚈𝚄𝙺𝙰 username=r_a_n_0_9_0_2>, <User id=1052926828980006912 name=˗ˏˋ 𝘮𝘪𝘤𝘰 ˎˊ˗ username=oOmeg__>]}\n",
      "\n",
      "RT @DreadGods: Sigh… https://t.co/9qnerW0BV9\n",
      "{'users': [<User id=1267947623803207680 name=cumdump hashira username=cumdump_hashira>, <User id=1339604086614855681 name=TheeDreadGod📓 username=DreadGods>]}\n",
      "\n",
      "Bakit ganon while watching your video hindi ko namalayan na tumutulo na luha ko huhuhu as in naiiyak https://t.co/jjDmwyBcFJ before in MMK hindi ko pa nmn na experience makapunta mg jail but ramdam ok yong pagiging genuine mo to help other people and I'm proud of you ms.k https://t.co/Nw9dgAicJ7\n",
      "{'users': [<User id=1544827586122960896 name=Joanapoles_7 username=joanapoles_7>, <User id=1405573843012493318 name=Karen Bordador username=Karen_Bordador>]}\n",
      "\n",
      "RT @MJ_007Club: ⚠️💥 Jammu and Kashmir &amp; Ladakh High Court opens up “Nadimarg Massacre” of Hindus case, which was rejected by the trial cour…\n",
      "{'users': [<User id=2912899838 name=Rahul 🇮🇳🇮🇳🇮🇳 username=rahul_saini7>, <User id=1357739708579602432 name=Mayank Jindal username=MJ_007Club>]}\n",
      "\n",
      "RT @6iazk: both an overthinker and an overexplainer\n",
      "{'users': [<User id=952606585 name=Claire username=chubbymallows>, <User id=1496480516081520642 name=ً username=6iazk>]}\n",
      "\n",
      "RT @tprkahmtt: Türk futbolu böyle bir şey işte. Canı kime isterse çalışıyor kime isterse çalışmıyor. Bu pozisyonlara dünyanın hiç bir yerin…\n",
      "{'users': [<User id=1298611795855278080 name=Mazlum username=Stbymazlum>, <User id=1183702950323077121 name=Ahmet Toprak username=tprkahmtt>]}\n",
      "\n",
      "RT @FlavioBolsonaro: Parabéns a todos os policiais do Brasil por coibir o crime!\n",
      "\n",
      "Marcelo Vitor, coordenador da campanha de Lula em Alagoas…\n",
      "{'users': [<User id=1496299560909606914 name=Tassila Neves 2️⃣2️⃣ username=tassila_neves>, <User id=40053694 name=Flavio Bolsonaro #B22 username=FlavioBolsonaro>]}\n",
      "\n",
      "@Azra_larca Herkez diz çöker\n",
      "{'users': [<User id=956057966 name=şampiyonfener username=mecnunkoseoglu>, <User id=1278590968644743168 name=Azra username=Azra_larca>]}\n",
      "\n",
      "群青が好き\n",
      "{'users': [<User id=2728155781 name=でこ username=03decolion0606>]}\n",
      "\n",
      "就活、辛い(n回目)\n",
      "{'users': [<User id=863456154449395712 name=🍎 username=_sq_q_>]}\n",
      "\n",
      "@basaks_nu 힝구\n",
      "{'users': [<User id=1387317901376442372 name=NU: 카니발🔞| 무말랭 username=gay_flav_cookie>, <User id=1552576021840334848 name=바삭바삭 username=basaks_nu>]}\n",
      "\n",
      "RT @Ahtshammu: عمران خان صدف نعیم مرحومہ کے گھر تعزیت کے لیے پہنچ گئے\n",
      "{'users': [<User id=1011001765792305152 name=Kaptaan Army username=Kaptaan_Army>, <User id=2775956480 name=Ahtsham mustufa username=Ahtshammu>]}\n",
      "\n",
      "@_tho_ Weil man damit den Forderungen der Lobyisten nachgibt und nicht dem Gesunden Menschenverstand!\n",
      "{'users': [<User id=3186333443 name=Dasklapptnie username=dasklapptnie>, <User id=50077411 name=Thomas Walther username=_tho_>]}\n",
      "\n",
      "@ODORIKOseries ご苦労様(\"｀д´)ゞ\n",
      "{'users': [<User id=1218909077868146688 name=わたらい人@11/13守山師団記念行事参戦 username=watarai5812>, <User id=1484871675548106754 name=S V O username=ODORIKOseries>]}\n",
      "\n",
      "RT @kiros_zayd: The Amhara invading forces went door-to-door in #SouthernTigray &amp; told everyone to leave immediately &amp; they are massacre ci…\n",
      "{'users': [<User id=1493173584285601794 name=Tsega Gere username=gere1_gere>, <User id=1553916948035018753 name=Zayd Gall Wukro❤️💛 username=kiros_zayd>]}\n",
      "\n",
      "RT @uratasama: テロップみすった　ひとりです\n",
      "https://t.co/DzN8J3FC9I\n",
      "{'users': [<User id=1371055676022132741 name=airi♔ username=airi1201250>, <User id=112207890 name=うらたぬき🍀浦島坂田船/浦田わたる username=uratasama>]}\n",
      "\n",
      "RT @aliaaltuwijri: اذكى فكرة \n",
      "طبقت على المطابخ \n",
      "اعطت المطبخ ترتيب و مساحة رهيبة https://t.co/j88W96scXh\n",
      "{'users': [<User id=1326409344 name=feras username=FerasAlshaer83>, <User id=2969081954 name=علياء التويجري username=aliaaltuwijri>]}\n",
      "\n",
      "@ExtremeBoring https://t.co/iV88cjtelu\n",
      "{'users': [<User id=1550873023489593347 name=Godmaker.eth⛩️🧬｜139.tez username=Godmaker_eth>, <User id=1567123871534579712 name=極度無聊中 Space 平台 username=ExtremeBoring>]}\n",
      "\n",
      "متى نشوف احمد يرجع يعلن حتى معرض العطور ماتقدر تروح العيال بيروحون معرض العطور المشاهير موجدين هناك وهاذي فرصه ل احمد يتعرف على المشاهير  @hx_750 #احمد_رحيم\n",
      "{'users': [<User id=1485425339128061952 name=شهد username=shhd25609851>, <User id=825090504014647297 name=احمد رحيم username=hx_750>]}\n",
      "\n",
      "RT @777liina: can I do it on your face? :p https://t.co/fFsPmGR0gd\n",
      "{'users': [<User id=1271722910986756096 name=18+ tim 18+ HORNY WARNING FREE OF username=WeeweeCaptain>, <User id=1461386916394422272 name=lina ☆ username=777liina>]}\n",
      "\n",
      "原稿書こうと思ってタリーズきたけれど、お店のWi-Fiが調子悪かったので、ただコーヒー飲んでぼーっとすることになりそう_(┐「ε:)_\n",
      "{'users': [<User id=816666539701063680 name=てぶくろ username=hanp_en>]}\n",
      "\n",
      "@orawan_sany1 ครับผม\n",
      "{'users': [<User id=1572133261849276418 name=รักที่บริสุทธิ์คือรักที่อยู่ในกำมือของเรา username=xdisrpthawngkh1>, <User id=1544755931598422016 name=ทราย Sany username=orawan_sany1>]}\n",
      "\n",
      "RT @Annamark93: อันนี้ 55555555555555555555 ตอนแรกมาร์คน่าจะคิดว่าแฟนคลับจะกอดเฉยๆ แต่คือ 5555555555555555555 โอ้ย ตัวลอยเลย มาร์คขำไม่หยุด…\n",
      "{'users': [<User id=3140254376 name=˓강아지 에릭 🎪คิดถึงเอริค❕ username=iimaboopng>, <User id=1331047333262364672 name=Anna username=Annamark93>]}\n",
      "\n",
      "RT @MedicoAngad_7: Kohli ji trying to           The\n",
      "maintain privacy         Cameraman https://t.co/tmVkpCE4QK\n",
      "{'users': [<User id=1582600117009293313 name=Nobody🎭 username=least_TP>, <User id=1483164315733880832 name=ANGAD username=MedicoAngad_7>]}\n",
      "\n",
      "RT @diarytxt_: รีทวิตนี้เพื่อเติมพลังยานให้น้องบอม \n",
      "#MAMAVOTE #TXT  https://t.co/qyLmO1yI3A\n",
      "{'users': [<User id=1478271718065983490 name=ssdy username=serioussundaisy>, <User id=1102542536143331330 name=BABYBEOM ✘ username=diarytxt_>]}\n",
      "\n",
      "RT @Thisisaber: به خانواده ی #سهیل_خوشدل بعد صادر شده حکم اجازه ندادن که باهاش صحبت کنن\n",
      "سهیل حتی هنوز به سن قانونی نرسیده ولی واسه‌ش حکم قص…\n",
      "{'users': [<User id=1430133486841700355 name=Fatemeh username=fatemeh199999>, <User id=1448323143869689861 name=ارن حقگو username=Thisisaber>]}\n",
      "\n",
      "RT @ANA_Group_News: ✈ #プレスリリース ✈\n",
      "本日上半期の決算を発表しました。\n",
      "おかげさまで3年ぶりの上期黒字の達成となりました。\n",
      "\n",
      "お客様、関係の皆様のご支援に心より感謝申し上げます。\n",
      "これからも皆さまの笑顔と共に「 ＃世界をつなぐ心の翼 」であり続けるよ…\n",
      "{'users': [<User id=1451722429663830026 name=すずめさん（すずめボウ） username=8246nyan>, <User id=763288110880829440 name=ANA Group News username=ANA_Group_News>]}\n",
      "\n"
     ]
    },
    {
     "ename": "KeyboardInterrupt",
     "evalue": "",
     "output_type": "error",
     "traceback": [
      "\u001b[1;31m---------------------------------------------------------------------------\u001b[0m",
      "\u001b[1;31mtimeout\u001b[0m                                   Traceback (most recent call last)",
      "\u001b[1;32mD:\\anaconda\\lib\\ssl.py\u001b[0m in \u001b[0;36mread\u001b[1;34m(self, len, buffer)\u001b[0m\n\u001b[0;32m   1098\u001b[0m             \u001b[1;32mif\u001b[0m \u001b[0mbuffer\u001b[0m \u001b[1;32mis\u001b[0m \u001b[1;32mnot\u001b[0m \u001b[1;32mNone\u001b[0m\u001b[1;33m:\u001b[0m\u001b[1;33m\u001b[0m\u001b[1;33m\u001b[0m\u001b[0m\n\u001b[1;32m-> 1099\u001b[1;33m                 \u001b[1;32mreturn\u001b[0m \u001b[0mself\u001b[0m\u001b[1;33m.\u001b[0m\u001b[0m_sslobj\u001b[0m\u001b[1;33m.\u001b[0m\u001b[0mread\u001b[0m\u001b[1;33m(\u001b[0m\u001b[0mlen\u001b[0m\u001b[1;33m,\u001b[0m \u001b[0mbuffer\u001b[0m\u001b[1;33m)\u001b[0m\u001b[1;33m\u001b[0m\u001b[1;33m\u001b[0m\u001b[0m\n\u001b[0m\u001b[0;32m   1100\u001b[0m             \u001b[1;32melse\u001b[0m\u001b[1;33m:\u001b[0m\u001b[1;33m\u001b[0m\u001b[1;33m\u001b[0m\u001b[0m\n",
      "\u001b[1;31mtimeout\u001b[0m: The read operation timed out",
      "\nDuring handling of the above exception, another exception occurred:\n",
      "\u001b[1;31mKeyboardInterrupt\u001b[0m                         Traceback (most recent call last)",
      "\u001b[1;32m~\\AppData\\Local\\Temp/ipykernel_10608/2032065887.py\u001b[0m in \u001b[0;36m<module>\u001b[1;34m\u001b[0m\n\u001b[0;32m     17\u001b[0m \u001b[1;33m\u001b[0m\u001b[0m\n\u001b[0;32m     18\u001b[0m \u001b[0mprinter\u001b[0m \u001b[1;33m=\u001b[0m \u001b[0mTwitter_Streamer\u001b[0m\u001b[1;33m(\u001b[0m\u001b[0mtwitter_credentials\u001b[0m\u001b[1;33m[\u001b[0m\u001b[1;34m'bearer token'\u001b[0m\u001b[1;33m]\u001b[0m\u001b[1;33m)\u001b[0m\u001b[1;33m\u001b[0m\u001b[1;33m\u001b[0m\u001b[0m\n\u001b[1;32m---> 19\u001b[1;33m \u001b[0mprinter\u001b[0m\u001b[1;33m.\u001b[0m\u001b[0msample\u001b[0m\u001b[1;33m(\u001b[0m\u001b[0mexpansions\u001b[0m\u001b[1;33m=\u001b[0m\u001b[1;33m[\u001b[0m\u001b[1;34m'author_id'\u001b[0m\u001b[1;33m]\u001b[0m\u001b[1;33m,\u001b[0m\u001b[0mtweet_fields\u001b[0m\u001b[1;33m=\u001b[0m\u001b[1;33m[\u001b[0m\u001b[1;34m\"created_at\"\u001b[0m\u001b[1;33m]\u001b[0m\u001b[1;33m)\u001b[0m\u001b[1;33m\u001b[0m\u001b[1;33m\u001b[0m\u001b[0m\n\u001b[0m",
      "\u001b[1;32mD:\\anaconda\\lib\\site-packages\\tweepy\\streaming.py\u001b[0m in \u001b[0;36msample\u001b[1;34m(self, threaded, **params)\u001b[0m\n\u001b[0;32m    898\u001b[0m             \u001b[1;32mreturn\u001b[0m \u001b[0mself\u001b[0m\u001b[1;33m.\u001b[0m\u001b[0m_threaded_connect\u001b[0m\u001b[1;33m(\u001b[0m\u001b[0mmethod\u001b[0m\u001b[1;33m,\u001b[0m \u001b[0mendpoint\u001b[0m\u001b[1;33m,\u001b[0m \u001b[0mparams\u001b[0m\u001b[1;33m=\u001b[0m\u001b[0mparams\u001b[0m\u001b[1;33m)\u001b[0m\u001b[1;33m\u001b[0m\u001b[1;33m\u001b[0m\u001b[0m\n\u001b[0;32m    899\u001b[0m         \u001b[1;32melse\u001b[0m\u001b[1;33m:\u001b[0m\u001b[1;33m\u001b[0m\u001b[1;33m\u001b[0m\u001b[0m\n\u001b[1;32m--> 900\u001b[1;33m             \u001b[0mself\u001b[0m\u001b[1;33m.\u001b[0m\u001b[0m_connect\u001b[0m\u001b[1;33m(\u001b[0m\u001b[0mmethod\u001b[0m\u001b[1;33m,\u001b[0m \u001b[0mendpoint\u001b[0m\u001b[1;33m,\u001b[0m \u001b[0mparams\u001b[0m\u001b[1;33m=\u001b[0m\u001b[0mparams\u001b[0m\u001b[1;33m)\u001b[0m\u001b[1;33m\u001b[0m\u001b[1;33m\u001b[0m\u001b[0m\n\u001b[0m\u001b[0;32m    901\u001b[0m \u001b[1;33m\u001b[0m\u001b[0m\n\u001b[0;32m    902\u001b[0m     \u001b[1;32mdef\u001b[0m \u001b[0mon_data\u001b[0m\u001b[1;33m(\u001b[0m\u001b[0mself\u001b[0m\u001b[1;33m,\u001b[0m \u001b[0mraw_data\u001b[0m\u001b[1;33m)\u001b[0m\u001b[1;33m:\u001b[0m\u001b[1;33m\u001b[0m\u001b[1;33m\u001b[0m\u001b[0m\n",
      "\u001b[1;32mD:\\anaconda\\lib\\site-packages\\tweepy\\streaming.py\u001b[0m in \u001b[0;36m_connect\u001b[1;34m(self, method, endpoint, **kwargs)\u001b[0m\n\u001b[0;32m    612\u001b[0m         \u001b[0mself\u001b[0m\u001b[1;33m.\u001b[0m\u001b[0msession\u001b[0m\u001b[1;33m.\u001b[0m\u001b[0mheaders\u001b[0m\u001b[1;33m[\u001b[0m\u001b[1;34m\"Authorization\"\u001b[0m\u001b[1;33m]\u001b[0m \u001b[1;33m=\u001b[0m \u001b[1;34mf\"Bearer {self.bearer_token}\"\u001b[0m\u001b[1;33m\u001b[0m\u001b[1;33m\u001b[0m\u001b[0m\n\u001b[0;32m    613\u001b[0m         \u001b[0murl\u001b[0m \u001b[1;33m=\u001b[0m \u001b[1;34mf\"https://api.twitter.com/2/tweets/{endpoint}/stream\"\u001b[0m\u001b[1;33m\u001b[0m\u001b[1;33m\u001b[0m\u001b[0m\n\u001b[1;32m--> 614\u001b[1;33m         \u001b[0msuper\u001b[0m\u001b[1;33m(\u001b[0m\u001b[1;33m)\u001b[0m\u001b[1;33m.\u001b[0m\u001b[0m_connect\u001b[0m\u001b[1;33m(\u001b[0m\u001b[0mmethod\u001b[0m\u001b[1;33m,\u001b[0m \u001b[0murl\u001b[0m\u001b[1;33m,\u001b[0m \u001b[1;33m**\u001b[0m\u001b[0mkwargs\u001b[0m\u001b[1;33m)\u001b[0m\u001b[1;33m\u001b[0m\u001b[1;33m\u001b[0m\u001b[0m\n\u001b[0m\u001b[0;32m    615\u001b[0m \u001b[1;33m\u001b[0m\u001b[0m\n\u001b[0;32m    616\u001b[0m     \u001b[1;32mdef\u001b[0m \u001b[0m_process_data\u001b[0m\u001b[1;33m(\u001b[0m\u001b[0mself\u001b[0m\u001b[1;33m,\u001b[0m \u001b[0mdata\u001b[0m\u001b[1;33m,\u001b[0m \u001b[0mdata_type\u001b[0m\u001b[1;33m=\u001b[0m\u001b[1;32mNone\u001b[0m\u001b[1;33m)\u001b[0m\u001b[1;33m:\u001b[0m\u001b[1;33m\u001b[0m\u001b[1;33m\u001b[0m\u001b[0m\n",
      "\u001b[1;32mD:\\anaconda\\lib\\site-packages\\tweepy\\streaming.py\u001b[0m in \u001b[0;36m_connect\u001b[1;34m(self, method, url, auth, params, headers, body, timeout)\u001b[0m\n\u001b[0;32m     86\u001b[0m                                 \u001b[1;32mbreak\u001b[0m\u001b[1;33m\u001b[0m\u001b[1;33m\u001b[0m\u001b[0m\n\u001b[0;32m     87\u001b[0m \u001b[1;33m\u001b[0m\u001b[0m\n\u001b[1;32m---> 88\u001b[1;33m                             for line in resp.iter_lines(\n\u001b[0m\u001b[0;32m     89\u001b[0m                                 \u001b[0mchunk_size\u001b[0m\u001b[1;33m=\u001b[0m\u001b[0mself\u001b[0m\u001b[1;33m.\u001b[0m\u001b[0mchunk_size\u001b[0m\u001b[1;33m\u001b[0m\u001b[1;33m\u001b[0m\u001b[0m\n\u001b[0;32m     90\u001b[0m                             ):\n",
      "\u001b[1;32mD:\\anaconda\\lib\\site-packages\\requests\\models.py\u001b[0m in \u001b[0;36miter_lines\u001b[1;34m(self, chunk_size, decode_unicode, delimiter)\u001b[0m\n\u001b[0;32m    863\u001b[0m         \u001b[0mpending\u001b[0m \u001b[1;33m=\u001b[0m \u001b[1;32mNone\u001b[0m\u001b[1;33m\u001b[0m\u001b[1;33m\u001b[0m\u001b[0m\n\u001b[0;32m    864\u001b[0m \u001b[1;33m\u001b[0m\u001b[0m\n\u001b[1;32m--> 865\u001b[1;33m         for chunk in self.iter_content(\n\u001b[0m\u001b[0;32m    866\u001b[0m             \u001b[0mchunk_size\u001b[0m\u001b[1;33m=\u001b[0m\u001b[0mchunk_size\u001b[0m\u001b[1;33m,\u001b[0m \u001b[0mdecode_unicode\u001b[0m\u001b[1;33m=\u001b[0m\u001b[0mdecode_unicode\u001b[0m\u001b[1;33m\u001b[0m\u001b[1;33m\u001b[0m\u001b[0m\n\u001b[0;32m    867\u001b[0m         ):\n",
      "\u001b[1;32mD:\\anaconda\\lib\\site-packages\\requests\\models.py\u001b[0m in \u001b[0;36mgenerate\u001b[1;34m()\u001b[0m\n\u001b[0;32m    814\u001b[0m             \u001b[1;32mif\u001b[0m \u001b[0mhasattr\u001b[0m\u001b[1;33m(\u001b[0m\u001b[0mself\u001b[0m\u001b[1;33m.\u001b[0m\u001b[0mraw\u001b[0m\u001b[1;33m,\u001b[0m \u001b[1;34m\"stream\"\u001b[0m\u001b[1;33m)\u001b[0m\u001b[1;33m:\u001b[0m\u001b[1;33m\u001b[0m\u001b[1;33m\u001b[0m\u001b[0m\n\u001b[0;32m    815\u001b[0m                 \u001b[1;32mtry\u001b[0m\u001b[1;33m:\u001b[0m\u001b[1;33m\u001b[0m\u001b[1;33m\u001b[0m\u001b[0m\n\u001b[1;32m--> 816\u001b[1;33m                     \u001b[1;32myield\u001b[0m \u001b[1;32mfrom\u001b[0m \u001b[0mself\u001b[0m\u001b[1;33m.\u001b[0m\u001b[0mraw\u001b[0m\u001b[1;33m.\u001b[0m\u001b[0mstream\u001b[0m\u001b[1;33m(\u001b[0m\u001b[0mchunk_size\u001b[0m\u001b[1;33m,\u001b[0m \u001b[0mdecode_content\u001b[0m\u001b[1;33m=\u001b[0m\u001b[1;32mTrue\u001b[0m\u001b[1;33m)\u001b[0m\u001b[1;33m\u001b[0m\u001b[1;33m\u001b[0m\u001b[0m\n\u001b[0m\u001b[0;32m    817\u001b[0m                 \u001b[1;32mexcept\u001b[0m \u001b[0mProtocolError\u001b[0m \u001b[1;32mas\u001b[0m \u001b[0me\u001b[0m\u001b[1;33m:\u001b[0m\u001b[1;33m\u001b[0m\u001b[1;33m\u001b[0m\u001b[0m\n\u001b[0;32m    818\u001b[0m                     \u001b[1;32mraise\u001b[0m \u001b[0mChunkedEncodingError\u001b[0m\u001b[1;33m(\u001b[0m\u001b[0me\u001b[0m\u001b[1;33m)\u001b[0m\u001b[1;33m\u001b[0m\u001b[1;33m\u001b[0m\u001b[0m\n",
      "\u001b[1;32mD:\\anaconda\\lib\\site-packages\\urllib3\\response.py\u001b[0m in \u001b[0;36mstream\u001b[1;34m(self, amt, decode_content)\u001b[0m\n\u001b[0;32m    570\u001b[0m         \"\"\"\n\u001b[0;32m    571\u001b[0m         \u001b[1;32mif\u001b[0m \u001b[0mself\u001b[0m\u001b[1;33m.\u001b[0m\u001b[0mchunked\u001b[0m \u001b[1;32mand\u001b[0m \u001b[0mself\u001b[0m\u001b[1;33m.\u001b[0m\u001b[0msupports_chunked_reads\u001b[0m\u001b[1;33m(\u001b[0m\u001b[1;33m)\u001b[0m\u001b[1;33m:\u001b[0m\u001b[1;33m\u001b[0m\u001b[1;33m\u001b[0m\u001b[0m\n\u001b[1;32m--> 572\u001b[1;33m             \u001b[1;32mfor\u001b[0m \u001b[0mline\u001b[0m \u001b[1;32min\u001b[0m \u001b[0mself\u001b[0m\u001b[1;33m.\u001b[0m\u001b[0mread_chunked\u001b[0m\u001b[1;33m(\u001b[0m\u001b[0mamt\u001b[0m\u001b[1;33m,\u001b[0m \u001b[0mdecode_content\u001b[0m\u001b[1;33m=\u001b[0m\u001b[0mdecode_content\u001b[0m\u001b[1;33m)\u001b[0m\u001b[1;33m:\u001b[0m\u001b[1;33m\u001b[0m\u001b[1;33m\u001b[0m\u001b[0m\n\u001b[0m\u001b[0;32m    573\u001b[0m                 \u001b[1;32myield\u001b[0m \u001b[0mline\u001b[0m\u001b[1;33m\u001b[0m\u001b[1;33m\u001b[0m\u001b[0m\n\u001b[0;32m    574\u001b[0m         \u001b[1;32melse\u001b[0m\u001b[1;33m:\u001b[0m\u001b[1;33m\u001b[0m\u001b[1;33m\u001b[0m\u001b[0m\n",
      "\u001b[1;32mD:\\anaconda\\lib\\site-packages\\urllib3\\response.py\u001b[0m in \u001b[0;36mread_chunked\u001b[1;34m(self, amt, decode_content)\u001b[0m\n\u001b[0;32m    762\u001b[0m \u001b[1;33m\u001b[0m\u001b[0m\n\u001b[0;32m    763\u001b[0m             \u001b[1;32mwhile\u001b[0m \u001b[1;32mTrue\u001b[0m\u001b[1;33m:\u001b[0m\u001b[1;33m\u001b[0m\u001b[1;33m\u001b[0m\u001b[0m\n\u001b[1;32m--> 764\u001b[1;33m                 \u001b[0mself\u001b[0m\u001b[1;33m.\u001b[0m\u001b[0m_update_chunk_length\u001b[0m\u001b[1;33m(\u001b[0m\u001b[1;33m)\u001b[0m\u001b[1;33m\u001b[0m\u001b[1;33m\u001b[0m\u001b[0m\n\u001b[0m\u001b[0;32m    765\u001b[0m                 \u001b[1;32mif\u001b[0m \u001b[0mself\u001b[0m\u001b[1;33m.\u001b[0m\u001b[0mchunk_left\u001b[0m \u001b[1;33m==\u001b[0m \u001b[1;36m0\u001b[0m\u001b[1;33m:\u001b[0m\u001b[1;33m\u001b[0m\u001b[1;33m\u001b[0m\u001b[0m\n\u001b[0;32m    766\u001b[0m                     \u001b[1;32mbreak\u001b[0m\u001b[1;33m\u001b[0m\u001b[1;33m\u001b[0m\u001b[0m\n",
      "\u001b[1;32mD:\\anaconda\\lib\\site-packages\\urllib3\\response.py\u001b[0m in \u001b[0;36m_update_chunk_length\u001b[1;34m(self)\u001b[0m\n\u001b[0;32m    692\u001b[0m         \u001b[1;32mif\u001b[0m \u001b[0mself\u001b[0m\u001b[1;33m.\u001b[0m\u001b[0mchunk_left\u001b[0m \u001b[1;32mis\u001b[0m \u001b[1;32mnot\u001b[0m \u001b[1;32mNone\u001b[0m\u001b[1;33m:\u001b[0m\u001b[1;33m\u001b[0m\u001b[1;33m\u001b[0m\u001b[0m\n\u001b[0;32m    693\u001b[0m             \u001b[1;32mreturn\u001b[0m\u001b[1;33m\u001b[0m\u001b[1;33m\u001b[0m\u001b[0m\n\u001b[1;32m--> 694\u001b[1;33m         \u001b[0mline\u001b[0m \u001b[1;33m=\u001b[0m \u001b[0mself\u001b[0m\u001b[1;33m.\u001b[0m\u001b[0m_fp\u001b[0m\u001b[1;33m.\u001b[0m\u001b[0mfp\u001b[0m\u001b[1;33m.\u001b[0m\u001b[0mreadline\u001b[0m\u001b[1;33m(\u001b[0m\u001b[1;33m)\u001b[0m\u001b[1;33m\u001b[0m\u001b[1;33m\u001b[0m\u001b[0m\n\u001b[0m\u001b[0;32m    695\u001b[0m         \u001b[0mline\u001b[0m \u001b[1;33m=\u001b[0m \u001b[0mline\u001b[0m\u001b[1;33m.\u001b[0m\u001b[0msplit\u001b[0m\u001b[1;33m(\u001b[0m\u001b[1;34mb\";\"\u001b[0m\u001b[1;33m,\u001b[0m \u001b[1;36m1\u001b[0m\u001b[1;33m)\u001b[0m\u001b[1;33m[\u001b[0m\u001b[1;36m0\u001b[0m\u001b[1;33m]\u001b[0m\u001b[1;33m\u001b[0m\u001b[1;33m\u001b[0m\u001b[0m\n\u001b[0;32m    696\u001b[0m         \u001b[1;32mtry\u001b[0m\u001b[1;33m:\u001b[0m\u001b[1;33m\u001b[0m\u001b[1;33m\u001b[0m\u001b[0m\n",
      "\u001b[1;32mD:\\anaconda\\lib\\socket.py\u001b[0m in \u001b[0;36mreadinto\u001b[1;34m(self, b)\u001b[0m\n\u001b[0;32m    702\u001b[0m         \u001b[1;32mwhile\u001b[0m \u001b[1;32mTrue\u001b[0m\u001b[1;33m:\u001b[0m\u001b[1;33m\u001b[0m\u001b[1;33m\u001b[0m\u001b[0m\n\u001b[0;32m    703\u001b[0m             \u001b[1;32mtry\u001b[0m\u001b[1;33m:\u001b[0m\u001b[1;33m\u001b[0m\u001b[1;33m\u001b[0m\u001b[0m\n\u001b[1;32m--> 704\u001b[1;33m                 \u001b[1;32mreturn\u001b[0m \u001b[0mself\u001b[0m\u001b[1;33m.\u001b[0m\u001b[0m_sock\u001b[0m\u001b[1;33m.\u001b[0m\u001b[0mrecv_into\u001b[0m\u001b[1;33m(\u001b[0m\u001b[0mb\u001b[0m\u001b[1;33m)\u001b[0m\u001b[1;33m\u001b[0m\u001b[1;33m\u001b[0m\u001b[0m\n\u001b[0m\u001b[0;32m    705\u001b[0m             \u001b[1;32mexcept\u001b[0m \u001b[0mtimeout\u001b[0m\u001b[1;33m:\u001b[0m\u001b[1;33m\u001b[0m\u001b[1;33m\u001b[0m\u001b[0m\n\u001b[0;32m    706\u001b[0m                 \u001b[0mself\u001b[0m\u001b[1;33m.\u001b[0m\u001b[0m_timeout_occurred\u001b[0m \u001b[1;33m=\u001b[0m \u001b[1;32mTrue\u001b[0m\u001b[1;33m\u001b[0m\u001b[1;33m\u001b[0m\u001b[0m\n",
      "\u001b[1;32mD:\\anaconda\\lib\\ssl.py\u001b[0m in \u001b[0;36mrecv_into\u001b[1;34m(self, buffer, nbytes, flags)\u001b[0m\n\u001b[0;32m   1239\u001b[0m                   \u001b[1;34m\"non-zero flags not allowed in calls to recv_into() on %s\"\u001b[0m \u001b[1;33m%\u001b[0m\u001b[1;33m\u001b[0m\u001b[1;33m\u001b[0m\u001b[0m\n\u001b[0;32m   1240\u001b[0m                   self.__class__)\n\u001b[1;32m-> 1241\u001b[1;33m             \u001b[1;32mreturn\u001b[0m \u001b[0mself\u001b[0m\u001b[1;33m.\u001b[0m\u001b[0mread\u001b[0m\u001b[1;33m(\u001b[0m\u001b[0mnbytes\u001b[0m\u001b[1;33m,\u001b[0m \u001b[0mbuffer\u001b[0m\u001b[1;33m)\u001b[0m\u001b[1;33m\u001b[0m\u001b[1;33m\u001b[0m\u001b[0m\n\u001b[0m\u001b[0;32m   1242\u001b[0m         \u001b[1;32melse\u001b[0m\u001b[1;33m:\u001b[0m\u001b[1;33m\u001b[0m\u001b[1;33m\u001b[0m\u001b[0m\n\u001b[0;32m   1243\u001b[0m             \u001b[1;32mreturn\u001b[0m \u001b[0msuper\u001b[0m\u001b[1;33m(\u001b[0m\u001b[1;33m)\u001b[0m\u001b[1;33m.\u001b[0m\u001b[0mrecv_into\u001b[0m\u001b[1;33m(\u001b[0m\u001b[0mbuffer\u001b[0m\u001b[1;33m,\u001b[0m \u001b[0mnbytes\u001b[0m\u001b[1;33m,\u001b[0m \u001b[0mflags\u001b[0m\u001b[1;33m)\u001b[0m\u001b[1;33m\u001b[0m\u001b[1;33m\u001b[0m\u001b[0m\n",
      "\u001b[1;32mD:\\anaconda\\lib\\ssl.py\u001b[0m in \u001b[0;36mread\u001b[1;34m(self, len, buffer)\u001b[0m\n\u001b[0;32m   1097\u001b[0m         \u001b[1;32mtry\u001b[0m\u001b[1;33m:\u001b[0m\u001b[1;33m\u001b[0m\u001b[1;33m\u001b[0m\u001b[0m\n\u001b[0;32m   1098\u001b[0m             \u001b[1;32mif\u001b[0m \u001b[0mbuffer\u001b[0m \u001b[1;32mis\u001b[0m \u001b[1;32mnot\u001b[0m \u001b[1;32mNone\u001b[0m\u001b[1;33m:\u001b[0m\u001b[1;33m\u001b[0m\u001b[1;33m\u001b[0m\u001b[0m\n\u001b[1;32m-> 1099\u001b[1;33m                 \u001b[1;32mreturn\u001b[0m \u001b[0mself\u001b[0m\u001b[1;33m.\u001b[0m\u001b[0m_sslobj\u001b[0m\u001b[1;33m.\u001b[0m\u001b[0mread\u001b[0m\u001b[1;33m(\u001b[0m\u001b[0mlen\u001b[0m\u001b[1;33m,\u001b[0m \u001b[0mbuffer\u001b[0m\u001b[1;33m)\u001b[0m\u001b[1;33m\u001b[0m\u001b[1;33m\u001b[0m\u001b[0m\n\u001b[0m\u001b[0;32m   1100\u001b[0m             \u001b[1;32melse\u001b[0m\u001b[1;33m:\u001b[0m\u001b[1;33m\u001b[0m\u001b[1;33m\u001b[0m\u001b[0m\n\u001b[0;32m   1101\u001b[0m                 \u001b[1;32mreturn\u001b[0m \u001b[0mself\u001b[0m\u001b[1;33m.\u001b[0m\u001b[0m_sslobj\u001b[0m\u001b[1;33m.\u001b[0m\u001b[0mread\u001b[0m\u001b[1;33m(\u001b[0m\u001b[0mlen\u001b[0m\u001b[1;33m)\u001b[0m\u001b[1;33m\u001b[0m\u001b[1;33m\u001b[0m\u001b[0m\n",
      "\u001b[1;31mKeyboardInterrupt\u001b[0m: "
     ]
    }
   ],
   "source": [
    "from tweepy import StreamingClient\n",
    "\n",
    "class Twitter_Streamer(StreamingClient):    \n",
    "    def on_connect(self):\n",
    "        print('Connected..')\n",
    "    \n",
    "    def on_closed(self):\n",
    "        print('Closed..')\n",
    "    \n",
    "    def on_response(self,data):\n",
    "        d = data.data\n",
    "        u = data.includes\n",
    "        print(d)\n",
    "        print(u)\n",
    "        print()\n",
    "\n",
    "\n",
    "printer = Twitter_Streamer(twitter_credentials['bearer token'])\n",
    "printer.sample(expansions=['author_id'],tweet_fields=[\"created_at\"])"
   ]
  },
  {
   "cell_type": "markdown",
   "id": "72d6a8c7",
   "metadata": {},
   "source": [
    "### Creating a kafka topic"
   ]
  },
  {
   "cell_type": "code",
   "execution_count": 15,
   "id": "bb2d6309",
   "metadata": {},
   "outputs": [],
   "source": [
    "from kafka.admin import KafkaAdminClient, NewTopic"
   ]
  },
  {
   "cell_type": "code",
   "execution_count": 16,
   "id": "ed165228",
   "metadata": {},
   "outputs": [
    {
     "data": {
      "text/plain": [
       "CreateTopicsResponse_v3(throttle_time_ms=0, topic_errors=[(topic='twitter-streaming', error_code=0, error_message=None)])"
      ]
     },
     "execution_count": 16,
     "metadata": {},
     "output_type": "execute_result"
    }
   ],
   "source": [
    "admin_client = KafkaAdminClient(bootstrap_servers = [\"localhost:9092\"])\n",
    "\n",
    "topic_list = []\n",
    "topic_list.append(NewTopic(name=\"twitter-streaming\", num_partitions=2, replication_factor=1))\n",
    "admin_client.create_topics(new_topics=topic_list, validate_only=False)"
   ]
  },
  {
   "cell_type": "markdown",
   "id": "975bbc62",
   "metadata": {},
   "source": [
    "### Creating a kafka producer"
   ]
  },
  {
   "cell_type": "code",
   "execution_count": 131,
   "id": "44444bec",
   "metadata": {},
   "outputs": [],
   "source": [
    "import json\n",
    "from bson import json_util\n",
    "\n",
    "def json_serialiser(obj):\n",
    "    data = obj.data\n",
    "    users = obj.includes\n",
    "    print(data)\n",
    "    print(type(data))\n",
    "    print()\n",
    "    doc = {\n",
    "        'tweet_info':{\n",
    "            'tweet': data.text,\n",
    "        },\n",
    "        'users': [{\n",
    "            'id': i.id,\n",
    "            'username': i.username,\n",
    "            'name': i.name\n",
    "        } for i in users['users']]\n",
    "    }\n",
    "    \n",
    "    return json.dumps(doc, default=json_util.default).encode('utf-8')"
   ]
  },
  {
   "cell_type": "code",
   "execution_count": 132,
   "id": "96e05d93",
   "metadata": {},
   "outputs": [],
   "source": [
    "from kafka import KafkaProducer\n",
    "\n",
    "producer = KafkaProducer(bootstrap_servers = [\"localhost:9092\"], value_serializer = json_serialiser)\n",
    "\n",
    "topic = 'twitter-streaming'"
   ]
  },
  {
   "cell_type": "markdown",
   "id": "429c3ea9",
   "metadata": {},
   "source": [
    "### Streaming tweets into kafka server"
   ]
  },
  {
   "cell_type": "code",
   "execution_count": 133,
   "id": "9a19a7eb",
   "metadata": {},
   "outputs": [
    {
     "name": "stdout",
     "output_type": "stream",
     "text": [
      "Connected..\n"
     ]
    },
    {
     "name": "stderr",
     "output_type": "stream",
     "text": [
      "Stream connection closed by Twitter\n"
     ]
    },
    {
     "name": "stdout",
     "output_type": "stream",
     "text": [
      "Pushing data into kafka server..\n",
      "RT @woye1: Apapa Custom has generated N790bn between January to September, 2022, an increase of 29.89% compared to N609bn generated in 2021.\n",
      "<class 'tweepy.tweet.Tweet'>\n",
      "\n",
      "disconnecting..\n"
     ]
    }
   ],
   "source": [
    "from tweepy import StreamingClient\n",
    "\n",
    "class Twitter_Streamer(StreamingClient):    \n",
    "    def on_connect(self):\n",
    "        print('Connected..')\n",
    "    \n",
    "    def on_response(self,data):\n",
    "        print('Pushing data into kafka server..')\n",
    "        producer.send(topic, data)\n",
    "        print('disconnecting..')\n",
    "        self.disconnect()\n",
    "\n",
    "\n",
    "printer = Twitter_Streamer(twitter_credentials['bearer token'])\n",
    "printer.sample(expansions=['author_id'],tweet_fields=[\"created_at\"])"
   ]
  },
  {
   "cell_type": "markdown",
   "id": "e99e0588",
   "metadata": {},
   "source": [
    "### Creating a consumer"
   ]
  },
  {
   "cell_type": "code",
   "execution_count": 134,
   "id": "c854de9b",
   "metadata": {},
   "outputs": [
    {
     "name": "stdout",
     "output_type": "stream",
     "text": [
      "{'tweet_info': {'tweet': {'author_id': '1139765874913529856', 'created_at': '2022-10-31T08:31:34.000Z', 'edit_history_tweet_ids': ['1586999307802005509'], 'id': '1586999307802005509', 'text': 'さむいしぬ'}, 'id': 1586999307802005509, 'created_at': datetime.datetime(2022, 10, 31, 8, 31, 34)}, 'users': [{'id': 1139765874913529856, 'username': 'kgoro555', 'name': 'K.goro'}]}\n",
      "\n"
     ]
    }
   ],
   "source": [
    "from kafka import KafkaConsumer\n",
    "import json\n",
    "from bson import json_util\n",
    "\n",
    "topic = 'twitter-streaming'\n",
    "\n",
    "consumer = KafkaConsumer(\n",
    "    topic,\n",
    "    bootstrap_servers = [\"localhost:9092\"],\n",
    "    auto_offset_reset = 'earliest',\n",
    "    group_id = 'twitter_streaming_consumer_group'\n",
    ")\n",
    "\n",
    "for msg in consumer:\n",
    "    doc = json.loads(msg.value, object_hook=json_util.object_hook)\n",
    "    print(doc)\n",
    "    print()\n",
    "    break"
   ]
  },
  {
   "cell_type": "code",
   "execution_count": null,
   "id": "1a103c4f",
   "metadata": {},
   "outputs": [],
   "source": []
  }
 ],
 "metadata": {
  "kernelspec": {
   "display_name": "Python 3 (ipykernel)",
   "language": "python",
   "name": "python3"
  },
  "language_info": {
   "codemirror_mode": {
    "name": "ipython",
    "version": 3
   },
   "file_extension": ".py",
   "mimetype": "text/x-python",
   "name": "python",
   "nbconvert_exporter": "python",
   "pygments_lexer": "ipython3",
   "version": "3.9.7"
  }
 },
 "nbformat": 4,
 "nbformat_minor": 5
}
